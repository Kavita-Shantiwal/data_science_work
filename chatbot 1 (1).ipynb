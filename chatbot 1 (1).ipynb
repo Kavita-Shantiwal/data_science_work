{
  "cells": [
    {
      "cell_type": "code",
      "execution_count": 48,
      "metadata": {
        "_cell_guid": "b1076dfc-b9ad-4769-8c92-a6c4dae69d19",
        "_uuid": "8f2839f25d086af736a60e9eeb907d3b93b6e0e5",
        "execution": {
          "iopub.execute_input": "2020-09-04T08:35:19.779120Z",
          "iopub.status.busy": "2020-09-04T08:35:19.778393Z",
          "iopub.status.idle": "2020-09-04T08:35:21.678334Z",
          "shell.execute_reply": "2020-09-04T08:35:21.677551Z"
        },
        "papermill": {
          "duration": 1.912884,
          "end_time": "2020-09-04T08:35:21.678459",
          "exception": false,
          "start_time": "2020-09-04T08:35:19.765575",
          "status": "completed"
        },
        "tags": [],
        "id": "JzJj6jxiB7o5"
      },
      "outputs": [],
      "source": [
        "import numpy as np \n",
        "import string\n",
        "from nltk.corpus import stopwords\n",
        "import pandas as pd \n",
        "from sklearn.feature_extraction.text import CountVectorizer\n",
        "from sklearn.tree import DecisionTreeClassifier\n",
        "from sklearn.feature_extraction.text import TfidfTransformer,TfidfVectorizer\n",
        "from sklearn.pipeline import Pipeline"
      ]
    },
    {
      "cell_type": "code",
      "execution_count": 49,
      "metadata": {
        "execution": {
          "iopub.execute_input": "2020-09-04T08:35:21.700624Z",
          "iopub.status.busy": "2020-09-04T08:35:21.699854Z",
          "iopub.status.idle": "2020-09-04T08:35:21.727881Z",
          "shell.execute_reply": "2020-09-04T08:35:21.727194Z"
        },
        "papermill": {
          "duration": 0.042283,
          "end_time": "2020-09-04T08:35:21.728000",
          "exception": false,
          "start_time": "2020-09-04T08:35:21.685717",
          "status": "completed"
        },
        "tags": [],
        "id": "qEOEmW25B7o7"
      },
      "outputs": [],
      "source": [
        "df = pd.read_csv('/content/dialogs.txt',sep='\\t')"
      ]
    },
    {
      "cell_type": "code",
      "execution_count": 50,
      "metadata": {
        "execution": {
          "iopub.execute_input": "2020-09-04T08:35:21.745238Z",
          "iopub.status.busy": "2020-09-04T08:35:21.744419Z",
          "iopub.status.idle": "2020-09-04T08:35:21.747388Z",
          "shell.execute_reply": "2020-09-04T08:35:21.746749Z"
        },
        "papermill": {
          "duration": 0.013483,
          "end_time": "2020-09-04T08:35:21.747500",
          "exception": false,
          "start_time": "2020-09-04T08:35:21.734017",
          "status": "completed"
        },
        "tags": [],
        "id": "SCnO1nUhB7o8"
      },
      "outputs": [],
      "source": [
        "a = pd.Series(df.columns)"
      ]
    },
    {
      "cell_type": "code",
      "execution_count": 51,
      "metadata": {
        "execution": {
          "iopub.execute_input": "2020-09-04T08:35:21.774645Z",
          "iopub.status.busy": "2020-09-04T08:35:21.767915Z",
          "iopub.status.idle": "2020-09-04T08:35:21.783360Z",
          "shell.execute_reply": "2020-09-04T08:35:21.782838Z"
        },
        "papermill": {
          "duration": 0.029898,
          "end_time": "2020-09-04T08:35:21.783469",
          "exception": false,
          "start_time": "2020-09-04T08:35:21.753571",
          "status": "completed"
        },
        "tags": [],
        "colab": {
          "base_uri": "https://localhost:8080/",
          "height": 424
        },
        "id": "jF08FbCUB7o9",
        "outputId": "42aa57b2-c31b-46be-d5b0-4f46fdaebfcc"
      },
      "outputs": [
        {
          "output_type": "execute_result",
          "data": {
            "text/plain": [
              "                                 hi, how are you doing?  \\\n",
              "0                         i'm fine. how about yourself?   \n",
              "1                   i'm pretty good. thanks for asking.   \n",
              "2                     no problem. so how have you been?   \n",
              "3                      i've been great. what about you?   \n",
              "4              i've been good. i'm in school right now.   \n",
              "...                                                 ...   \n",
              "3719    that's a good question. maybe it's not old age.   \n",
              "3720                              are you right-handed?   \n",
              "3721                                  yes. all my life.   \n",
              "3722  you're wearing out your right hand. stop using...   \n",
              "3723        but i do all my writing with my right hand.   \n",
              "\n",
              "                          i'm fine. how about yourself?  \n",
              "0                   i'm pretty good. thanks for asking.  \n",
              "1                     no problem. so how have you been?  \n",
              "2                      i've been great. what about you?  \n",
              "3              i've been good. i'm in school right now.  \n",
              "4                             what school do you go to?  \n",
              "...                                                 ...  \n",
              "3719                              are you right-handed?  \n",
              "3720                                  yes. all my life.  \n",
              "3721  you're wearing out your right hand. stop using...  \n",
              "3722        but i do all my writing with my right hand.  \n",
              "3723  start typing instead. that way your left hand ...  \n",
              "\n",
              "[3724 rows x 2 columns]"
            ],
            "text/html": [
              "\n",
              "  <div id=\"df-310fe75a-700e-44fd-b277-0098ebdf9ed7\">\n",
              "    <div class=\"colab-df-container\">\n",
              "      <div>\n",
              "<style scoped>\n",
              "    .dataframe tbody tr th:only-of-type {\n",
              "        vertical-align: middle;\n",
              "    }\n",
              "\n",
              "    .dataframe tbody tr th {\n",
              "        vertical-align: top;\n",
              "    }\n",
              "\n",
              "    .dataframe thead th {\n",
              "        text-align: right;\n",
              "    }\n",
              "</style>\n",
              "<table border=\"1\" class=\"dataframe\">\n",
              "  <thead>\n",
              "    <tr style=\"text-align: right;\">\n",
              "      <th></th>\n",
              "      <th>hi, how are you doing?</th>\n",
              "      <th>i'm fine. how about yourself?</th>\n",
              "    </tr>\n",
              "  </thead>\n",
              "  <tbody>\n",
              "    <tr>\n",
              "      <th>0</th>\n",
              "      <td>i'm fine. how about yourself?</td>\n",
              "      <td>i'm pretty good. thanks for asking.</td>\n",
              "    </tr>\n",
              "    <tr>\n",
              "      <th>1</th>\n",
              "      <td>i'm pretty good. thanks for asking.</td>\n",
              "      <td>no problem. so how have you been?</td>\n",
              "    </tr>\n",
              "    <tr>\n",
              "      <th>2</th>\n",
              "      <td>no problem. so how have you been?</td>\n",
              "      <td>i've been great. what about you?</td>\n",
              "    </tr>\n",
              "    <tr>\n",
              "      <th>3</th>\n",
              "      <td>i've been great. what about you?</td>\n",
              "      <td>i've been good. i'm in school right now.</td>\n",
              "    </tr>\n",
              "    <tr>\n",
              "      <th>4</th>\n",
              "      <td>i've been good. i'm in school right now.</td>\n",
              "      <td>what school do you go to?</td>\n",
              "    </tr>\n",
              "    <tr>\n",
              "      <th>...</th>\n",
              "      <td>...</td>\n",
              "      <td>...</td>\n",
              "    </tr>\n",
              "    <tr>\n",
              "      <th>3719</th>\n",
              "      <td>that's a good question. maybe it's not old age.</td>\n",
              "      <td>are you right-handed?</td>\n",
              "    </tr>\n",
              "    <tr>\n",
              "      <th>3720</th>\n",
              "      <td>are you right-handed?</td>\n",
              "      <td>yes. all my life.</td>\n",
              "    </tr>\n",
              "    <tr>\n",
              "      <th>3721</th>\n",
              "      <td>yes. all my life.</td>\n",
              "      <td>you're wearing out your right hand. stop using...</td>\n",
              "    </tr>\n",
              "    <tr>\n",
              "      <th>3722</th>\n",
              "      <td>you're wearing out your right hand. stop using...</td>\n",
              "      <td>but i do all my writing with my right hand.</td>\n",
              "    </tr>\n",
              "    <tr>\n",
              "      <th>3723</th>\n",
              "      <td>but i do all my writing with my right hand.</td>\n",
              "      <td>start typing instead. that way your left hand ...</td>\n",
              "    </tr>\n",
              "  </tbody>\n",
              "</table>\n",
              "<p>3724 rows × 2 columns</p>\n",
              "</div>\n",
              "      <button class=\"colab-df-convert\" onclick=\"convertToInteractive('df-310fe75a-700e-44fd-b277-0098ebdf9ed7')\"\n",
              "              title=\"Convert this dataframe to an interactive table.\"\n",
              "              style=\"display:none;\">\n",
              "        \n",
              "  <svg xmlns=\"http://www.w3.org/2000/svg\" height=\"24px\"viewBox=\"0 0 24 24\"\n",
              "       width=\"24px\">\n",
              "    <path d=\"M0 0h24v24H0V0z\" fill=\"none\"/>\n",
              "    <path d=\"M18.56 5.44l.94 2.06.94-2.06 2.06-.94-2.06-.94-.94-2.06-.94 2.06-2.06.94zm-11 1L8.5 8.5l.94-2.06 2.06-.94-2.06-.94L8.5 2.5l-.94 2.06-2.06.94zm10 10l.94 2.06.94-2.06 2.06-.94-2.06-.94-.94-2.06-.94 2.06-2.06.94z\"/><path d=\"M17.41 7.96l-1.37-1.37c-.4-.4-.92-.59-1.43-.59-.52 0-1.04.2-1.43.59L10.3 9.45l-7.72 7.72c-.78.78-.78 2.05 0 2.83L4 21.41c.39.39.9.59 1.41.59.51 0 1.02-.2 1.41-.59l7.78-7.78 2.81-2.81c.8-.78.8-2.07 0-2.86zM5.41 20L4 18.59l7.72-7.72 1.47 1.35L5.41 20z\"/>\n",
              "  </svg>\n",
              "      </button>\n",
              "      \n",
              "  <style>\n",
              "    .colab-df-container {\n",
              "      display:flex;\n",
              "      flex-wrap:wrap;\n",
              "      gap: 12px;\n",
              "    }\n",
              "\n",
              "    .colab-df-convert {\n",
              "      background-color: #E8F0FE;\n",
              "      border: none;\n",
              "      border-radius: 50%;\n",
              "      cursor: pointer;\n",
              "      display: none;\n",
              "      fill: #1967D2;\n",
              "      height: 32px;\n",
              "      padding: 0 0 0 0;\n",
              "      width: 32px;\n",
              "    }\n",
              "\n",
              "    .colab-df-convert:hover {\n",
              "      background-color: #E2EBFA;\n",
              "      box-shadow: 0px 1px 2px rgba(60, 64, 67, 0.3), 0px 1px 3px 1px rgba(60, 64, 67, 0.15);\n",
              "      fill: #174EA6;\n",
              "    }\n",
              "\n",
              "    [theme=dark] .colab-df-convert {\n",
              "      background-color: #3B4455;\n",
              "      fill: #D2E3FC;\n",
              "    }\n",
              "\n",
              "    [theme=dark] .colab-df-convert:hover {\n",
              "      background-color: #434B5C;\n",
              "      box-shadow: 0px 1px 3px 1px rgba(0, 0, 0, 0.15);\n",
              "      filter: drop-shadow(0px 1px 2px rgba(0, 0, 0, 0.3));\n",
              "      fill: #FFFFFF;\n",
              "    }\n",
              "  </style>\n",
              "\n",
              "      <script>\n",
              "        const buttonEl =\n",
              "          document.querySelector('#df-310fe75a-700e-44fd-b277-0098ebdf9ed7 button.colab-df-convert');\n",
              "        buttonEl.style.display =\n",
              "          google.colab.kernel.accessAllowed ? 'block' : 'none';\n",
              "\n",
              "        async function convertToInteractive(key) {\n",
              "          const element = document.querySelector('#df-310fe75a-700e-44fd-b277-0098ebdf9ed7');\n",
              "          const dataTable =\n",
              "            await google.colab.kernel.invokeFunction('convertToInteractive',\n",
              "                                                     [key], {});\n",
              "          if (!dataTable) return;\n",
              "\n",
              "          const docLinkHtml = 'Like what you see? Visit the ' +\n",
              "            '<a target=\"_blank\" href=https://colab.research.google.com/notebooks/data_table.ipynb>data table notebook</a>'\n",
              "            + ' to learn more about interactive tables.';\n",
              "          element.innerHTML = '';\n",
              "          dataTable['output_type'] = 'display_data';\n",
              "          await google.colab.output.renderOutput(dataTable, element);\n",
              "          const docLink = document.createElement('div');\n",
              "          docLink.innerHTML = docLinkHtml;\n",
              "          element.appendChild(docLink);\n",
              "        }\n",
              "      </script>\n",
              "    </div>\n",
              "  </div>\n",
              "  "
            ]
          },
          "metadata": {},
          "execution_count": 51
        }
      ],
      "source": [
        "df"
      ]
    },
    {
      "cell_type": "code",
      "execution_count": 52,
      "metadata": {
        "execution": {
          "iopub.execute_input": "2020-09-04T08:35:21.806941Z",
          "iopub.status.busy": "2020-09-04T08:35:21.806218Z",
          "iopub.status.idle": "2020-09-04T08:35:21.809623Z",
          "shell.execute_reply": "2020-09-04T08:35:21.809062Z"
        },
        "papermill": {
          "duration": 0.020224,
          "end_time": "2020-09-04T08:35:21.809785",
          "exception": false,
          "start_time": "2020-09-04T08:35:21.789561",
          "status": "completed"
        },
        "tags": [],
        "id": "jPzXwwKRB7o-"
      },
      "outputs": [],
      "source": [
        "a = a.rename({0: df.columns[0],1: df.columns[1]})"
      ]
    },
    {
      "cell_type": "markdown",
      "metadata": {
        "papermill": {
          "duration": 0.005836,
          "end_time": "2020-09-04T08:35:21.822217",
          "exception": false,
          "start_time": "2020-09-04T08:35:21.816381",
          "status": "completed"
        },
        "tags": [],
        "id": "Xask0nD_B7o_"
      },
      "source": [
        "# Adding some common Questions"
      ]
    },
    {
      "cell_type": "code",
      "execution_count": 53,
      "metadata": {
        "execution": {
          "iopub.execute_input": "2020-09-04T08:35:21.839450Z",
          "iopub.status.busy": "2020-09-04T08:35:21.838813Z",
          "iopub.status.idle": "2020-09-04T08:35:21.842113Z",
          "shell.execute_reply": "2020-09-04T08:35:21.841521Z"
        },
        "papermill": {
          "duration": 0.01386,
          "end_time": "2020-09-04T08:35:21.842229",
          "exception": false,
          "start_time": "2020-09-04T08:35:21.828369",
          "status": "completed"
        },
        "tags": [],
        "id": "tVu5Ls8jB7pA"
      },
      "outputs": [],
      "source": [
        "b = {'Questions':'Hi','Answers':'hello'}"
      ]
    },
    {
      "cell_type": "code",
      "execution_count": 54,
      "metadata": {
        "execution": {
          "iopub.execute_input": "2020-09-04T08:35:21.859699Z",
          "iopub.status.busy": "2020-09-04T08:35:21.859051Z",
          "iopub.status.idle": "2020-09-04T08:35:21.861760Z",
          "shell.execute_reply": "2020-09-04T08:35:21.862214Z"
        },
        "papermill": {
          "duration": 0.013897,
          "end_time": "2020-09-04T08:35:21.862400",
          "exception": false,
          "start_time": "2020-09-04T08:35:21.848503",
          "status": "completed"
        },
        "tags": [],
        "id": "Zvf6sf17B7pB"
      },
      "outputs": [],
      "source": [
        "c = {'Questions':'Hello','Answers':'hi'}"
      ]
    },
    {
      "cell_type": "code",
      "execution_count": 55,
      "metadata": {
        "execution": {
          "iopub.execute_input": "2020-09-04T08:35:21.880180Z",
          "iopub.status.busy": "2020-09-04T08:35:21.879465Z",
          "iopub.status.idle": "2020-09-04T08:35:21.882026Z",
          "shell.execute_reply": "2020-09-04T08:35:21.882458Z"
        },
        "papermill": {
          "duration": 0.013758,
          "end_time": "2020-09-04T08:35:21.882604",
          "exception": false,
          "start_time": "2020-09-04T08:35:21.868846",
          "status": "completed"
        },
        "tags": [],
        "id": "pkisJljDB7pC"
      },
      "outputs": [],
      "source": [
        "d= {'Questions':'how are you','Answers':\"i'm fine. how about yourself?\"}"
      ]
    },
    {
      "cell_type": "code",
      "execution_count": 56,
      "metadata": {
        "execution": {
          "iopub.execute_input": "2020-09-04T08:35:21.900564Z",
          "iopub.status.busy": "2020-09-04T08:35:21.899788Z",
          "iopub.status.idle": "2020-09-04T08:35:21.902758Z",
          "shell.execute_reply": "2020-09-04T08:35:21.902150Z"
        },
        "papermill": {
          "duration": 0.013841,
          "end_time": "2020-09-04T08:35:21.902888",
          "exception": false,
          "start_time": "2020-09-04T08:35:21.889047",
          "status": "completed"
        },
        "tags": [],
        "id": "MlqGBJeEB7pD"
      },
      "outputs": [],
      "source": [
        "e= {'Questions':'how are you doing','Answers':\"i'm fine. how about yourself?\"}"
      ]
    },
    {
      "cell_type": "code",
      "execution_count": 57,
      "metadata": {
        "execution": {
          "iopub.execute_input": "2020-09-04T08:35:21.924683Z",
          "iopub.status.busy": "2020-09-04T08:35:21.923932Z",
          "iopub.status.idle": "2020-09-04T08:35:21.927198Z",
          "shell.execute_reply": "2020-09-04T08:35:21.926609Z"
        },
        "papermill": {
          "duration": 0.017907,
          "end_time": "2020-09-04T08:35:21.927315",
          "exception": false,
          "start_time": "2020-09-04T08:35:21.909408",
          "status": "completed"
        },
        "tags": [],
        "id": "bMX5t0YnB7pE"
      },
      "outputs": [],
      "source": [
        "df = df.append(a,ignore_index=True)"
      ]
    },
    {
      "cell_type": "code",
      "execution_count": 58,
      "metadata": {
        "execution": {
          "iopub.execute_input": "2020-09-04T08:35:21.946055Z",
          "iopub.status.busy": "2020-09-04T08:35:21.945133Z",
          "iopub.status.idle": "2020-09-04T08:35:21.948690Z",
          "shell.execute_reply": "2020-09-04T08:35:21.948059Z"
        },
        "papermill": {
          "duration": 0.015124,
          "end_time": "2020-09-04T08:35:21.948804",
          "exception": false,
          "start_time": "2020-09-04T08:35:21.933680",
          "status": "completed"
        },
        "tags": [],
        "id": "vYc-qMTjB7pF"
      },
      "outputs": [],
      "source": [
        "df.columns=['Questions','Answers']"
      ]
    },
    {
      "cell_type": "code",
      "execution_count": 59,
      "metadata": {
        "execution": {
          "iopub.execute_input": "2020-09-04T08:35:21.967269Z",
          "iopub.status.busy": "2020-09-04T08:35:21.966555Z",
          "iopub.status.idle": "2020-09-04T08:35:21.974817Z",
          "shell.execute_reply": "2020-09-04T08:35:21.974152Z"
        },
        "papermill": {
          "duration": 0.01971,
          "end_time": "2020-09-04T08:35:21.974979",
          "exception": false,
          "start_time": "2020-09-04T08:35:21.955269",
          "status": "completed"
        },
        "tags": [],
        "id": "pF7TwTRvB7pG"
      },
      "outputs": [],
      "source": [
        "df = df.append([b,c,d,e],ignore_index=True)"
      ]
    },
    {
      "cell_type": "code",
      "execution_count": 60,
      "metadata": {
        "execution": {
          "iopub.execute_input": "2020-09-04T08:35:21.999998Z",
          "iopub.status.busy": "2020-09-04T08:35:21.998996Z",
          "iopub.status.idle": "2020-09-04T08:35:22.003769Z",
          "shell.execute_reply": "2020-09-04T08:35:22.003185Z"
        },
        "papermill": {
          "duration": 0.022429,
          "end_time": "2020-09-04T08:35:22.003905",
          "exception": false,
          "start_time": "2020-09-04T08:35:21.981476",
          "status": "completed"
        },
        "tags": [],
        "colab": {
          "base_uri": "https://localhost:8080/",
          "height": 424
        },
        "id": "f4rO6THAB7pH",
        "outputId": "1d847d59-e9ba-404b-9391-e6a1ebbd46ba"
      },
      "outputs": [
        {
          "output_type": "execute_result",
          "data": {
            "text/plain": [
              "                                     Questions  \\\n",
              "0                i'm fine. how about yourself?   \n",
              "1          i'm pretty good. thanks for asking.   \n",
              "2            no problem. so how have you been?   \n",
              "3             i've been great. what about you?   \n",
              "4     i've been good. i'm in school right now.   \n",
              "...                                        ...   \n",
              "3724                    hi, how are you doing?   \n",
              "3725                                        Hi   \n",
              "3726                                     Hello   \n",
              "3727                               how are you   \n",
              "3728                         how are you doing   \n",
              "\n",
              "                                       Answers  \n",
              "0          i'm pretty good. thanks for asking.  \n",
              "1            no problem. so how have you been?  \n",
              "2             i've been great. what about you?  \n",
              "3     i've been good. i'm in school right now.  \n",
              "4                    what school do you go to?  \n",
              "...                                        ...  \n",
              "3724             i'm fine. how about yourself?  \n",
              "3725                                     hello  \n",
              "3726                                        hi  \n",
              "3727             i'm fine. how about yourself?  \n",
              "3728             i'm fine. how about yourself?  \n",
              "\n",
              "[3729 rows x 2 columns]"
            ],
            "text/html": [
              "\n",
              "  <div id=\"df-768519cc-35fc-493a-a18c-acfa11dca694\">\n",
              "    <div class=\"colab-df-container\">\n",
              "      <div>\n",
              "<style scoped>\n",
              "    .dataframe tbody tr th:only-of-type {\n",
              "        vertical-align: middle;\n",
              "    }\n",
              "\n",
              "    .dataframe tbody tr th {\n",
              "        vertical-align: top;\n",
              "    }\n",
              "\n",
              "    .dataframe thead th {\n",
              "        text-align: right;\n",
              "    }\n",
              "</style>\n",
              "<table border=\"1\" class=\"dataframe\">\n",
              "  <thead>\n",
              "    <tr style=\"text-align: right;\">\n",
              "      <th></th>\n",
              "      <th>Questions</th>\n",
              "      <th>Answers</th>\n",
              "    </tr>\n",
              "  </thead>\n",
              "  <tbody>\n",
              "    <tr>\n",
              "      <th>0</th>\n",
              "      <td>i'm fine. how about yourself?</td>\n",
              "      <td>i'm pretty good. thanks for asking.</td>\n",
              "    </tr>\n",
              "    <tr>\n",
              "      <th>1</th>\n",
              "      <td>i'm pretty good. thanks for asking.</td>\n",
              "      <td>no problem. so how have you been?</td>\n",
              "    </tr>\n",
              "    <tr>\n",
              "      <th>2</th>\n",
              "      <td>no problem. so how have you been?</td>\n",
              "      <td>i've been great. what about you?</td>\n",
              "    </tr>\n",
              "    <tr>\n",
              "      <th>3</th>\n",
              "      <td>i've been great. what about you?</td>\n",
              "      <td>i've been good. i'm in school right now.</td>\n",
              "    </tr>\n",
              "    <tr>\n",
              "      <th>4</th>\n",
              "      <td>i've been good. i'm in school right now.</td>\n",
              "      <td>what school do you go to?</td>\n",
              "    </tr>\n",
              "    <tr>\n",
              "      <th>...</th>\n",
              "      <td>...</td>\n",
              "      <td>...</td>\n",
              "    </tr>\n",
              "    <tr>\n",
              "      <th>3724</th>\n",
              "      <td>hi, how are you doing?</td>\n",
              "      <td>i'm fine. how about yourself?</td>\n",
              "    </tr>\n",
              "    <tr>\n",
              "      <th>3725</th>\n",
              "      <td>Hi</td>\n",
              "      <td>hello</td>\n",
              "    </tr>\n",
              "    <tr>\n",
              "      <th>3726</th>\n",
              "      <td>Hello</td>\n",
              "      <td>hi</td>\n",
              "    </tr>\n",
              "    <tr>\n",
              "      <th>3727</th>\n",
              "      <td>how are you</td>\n",
              "      <td>i'm fine. how about yourself?</td>\n",
              "    </tr>\n",
              "    <tr>\n",
              "      <th>3728</th>\n",
              "      <td>how are you doing</td>\n",
              "      <td>i'm fine. how about yourself?</td>\n",
              "    </tr>\n",
              "  </tbody>\n",
              "</table>\n",
              "<p>3729 rows × 2 columns</p>\n",
              "</div>\n",
              "      <button class=\"colab-df-convert\" onclick=\"convertToInteractive('df-768519cc-35fc-493a-a18c-acfa11dca694')\"\n",
              "              title=\"Convert this dataframe to an interactive table.\"\n",
              "              style=\"display:none;\">\n",
              "        \n",
              "  <svg xmlns=\"http://www.w3.org/2000/svg\" height=\"24px\"viewBox=\"0 0 24 24\"\n",
              "       width=\"24px\">\n",
              "    <path d=\"M0 0h24v24H0V0z\" fill=\"none\"/>\n",
              "    <path d=\"M18.56 5.44l.94 2.06.94-2.06 2.06-.94-2.06-.94-.94-2.06-.94 2.06-2.06.94zm-11 1L8.5 8.5l.94-2.06 2.06-.94-2.06-.94L8.5 2.5l-.94 2.06-2.06.94zm10 10l.94 2.06.94-2.06 2.06-.94-2.06-.94-.94-2.06-.94 2.06-2.06.94z\"/><path d=\"M17.41 7.96l-1.37-1.37c-.4-.4-.92-.59-1.43-.59-.52 0-1.04.2-1.43.59L10.3 9.45l-7.72 7.72c-.78.78-.78 2.05 0 2.83L4 21.41c.39.39.9.59 1.41.59.51 0 1.02-.2 1.41-.59l7.78-7.78 2.81-2.81c.8-.78.8-2.07 0-2.86zM5.41 20L4 18.59l7.72-7.72 1.47 1.35L5.41 20z\"/>\n",
              "  </svg>\n",
              "      </button>\n",
              "      \n",
              "  <style>\n",
              "    .colab-df-container {\n",
              "      display:flex;\n",
              "      flex-wrap:wrap;\n",
              "      gap: 12px;\n",
              "    }\n",
              "\n",
              "    .colab-df-convert {\n",
              "      background-color: #E8F0FE;\n",
              "      border: none;\n",
              "      border-radius: 50%;\n",
              "      cursor: pointer;\n",
              "      display: none;\n",
              "      fill: #1967D2;\n",
              "      height: 32px;\n",
              "      padding: 0 0 0 0;\n",
              "      width: 32px;\n",
              "    }\n",
              "\n",
              "    .colab-df-convert:hover {\n",
              "      background-color: #E2EBFA;\n",
              "      box-shadow: 0px 1px 2px rgba(60, 64, 67, 0.3), 0px 1px 3px 1px rgba(60, 64, 67, 0.15);\n",
              "      fill: #174EA6;\n",
              "    }\n",
              "\n",
              "    [theme=dark] .colab-df-convert {\n",
              "      background-color: #3B4455;\n",
              "      fill: #D2E3FC;\n",
              "    }\n",
              "\n",
              "    [theme=dark] .colab-df-convert:hover {\n",
              "      background-color: #434B5C;\n",
              "      box-shadow: 0px 1px 3px 1px rgba(0, 0, 0, 0.15);\n",
              "      filter: drop-shadow(0px 1px 2px rgba(0, 0, 0, 0.3));\n",
              "      fill: #FFFFFF;\n",
              "    }\n",
              "  </style>\n",
              "\n",
              "      <script>\n",
              "        const buttonEl =\n",
              "          document.querySelector('#df-768519cc-35fc-493a-a18c-acfa11dca694 button.colab-df-convert');\n",
              "        buttonEl.style.display =\n",
              "          google.colab.kernel.accessAllowed ? 'block' : 'none';\n",
              "\n",
              "        async function convertToInteractive(key) {\n",
              "          const element = document.querySelector('#df-768519cc-35fc-493a-a18c-acfa11dca694');\n",
              "          const dataTable =\n",
              "            await google.colab.kernel.invokeFunction('convertToInteractive',\n",
              "                                                     [key], {});\n",
              "          if (!dataTable) return;\n",
              "\n",
              "          const docLinkHtml = 'Like what you see? Visit the ' +\n",
              "            '<a target=\"_blank\" href=https://colab.research.google.com/notebooks/data_table.ipynb>data table notebook</a>'\n",
              "            + ' to learn more about interactive tables.';\n",
              "          element.innerHTML = '';\n",
              "          dataTable['output_type'] = 'display_data';\n",
              "          await google.colab.output.renderOutput(dataTable, element);\n",
              "          const docLink = document.createElement('div');\n",
              "          docLink.innerHTML = docLinkHtml;\n",
              "          element.appendChild(docLink);\n",
              "        }\n",
              "      </script>\n",
              "    </div>\n",
              "  </div>\n",
              "  "
            ]
          },
          "metadata": {},
          "execution_count": 60
        }
      ],
      "source": [
        "df"
      ]
    },
    {
      "cell_type": "code",
      "execution_count": 61,
      "metadata": {
        "execution": {
          "iopub.execute_input": "2020-09-04T08:35:22.027000Z",
          "iopub.status.busy": "2020-09-04T08:35:22.026051Z",
          "iopub.status.idle": "2020-09-04T08:35:22.029065Z",
          "shell.execute_reply": "2020-09-04T08:35:22.028435Z"
        },
        "papermill": {
          "duration": 0.018396,
          "end_time": "2020-09-04T08:35:22.029178",
          "exception": false,
          "start_time": "2020-09-04T08:35:22.010782",
          "status": "completed"
        },
        "tags": [],
        "id": "gZR3BBSWB7pI"
      },
      "outputs": [],
      "source": [
        "df = df.append(c,ignore_index=True)"
      ]
    },
    {
      "cell_type": "code",
      "execution_count": 62,
      "metadata": {
        "execution": {
          "iopub.execute_input": "2020-09-04T08:35:22.051561Z",
          "iopub.status.busy": "2020-09-04T08:35:22.050660Z",
          "iopub.status.idle": "2020-09-04T08:35:22.054073Z",
          "shell.execute_reply": "2020-09-04T08:35:22.053502Z"
        },
        "papermill": {
          "duration": 0.018083,
          "end_time": "2020-09-04T08:35:22.054188",
          "exception": false,
          "start_time": "2020-09-04T08:35:22.036105",
          "status": "completed"
        },
        "tags": [],
        "id": "3jl8NKJtB7pJ"
      },
      "outputs": [],
      "source": [
        "df = df.append(d,ignore_index=True)"
      ]
    },
    {
      "cell_type": "code",
      "execution_count": 63,
      "metadata": {
        "execution": {
          "iopub.execute_input": "2020-09-04T08:35:22.076130Z",
          "iopub.status.busy": "2020-09-04T08:35:22.075276Z",
          "iopub.status.idle": "2020-09-04T08:35:22.079673Z",
          "shell.execute_reply": "2020-09-04T08:35:22.079010Z"
        },
        "papermill": {
          "duration": 0.018821,
          "end_time": "2020-09-04T08:35:22.079795",
          "exception": false,
          "start_time": "2020-09-04T08:35:22.060974",
          "status": "completed"
        },
        "tags": [],
        "id": "i8_U04dXB7pK"
      },
      "outputs": [],
      "source": [
        "df = df.append(d,ignore_index=True)"
      ]
    },
    {
      "cell_type": "code",
      "execution_count": 64,
      "metadata": {
        "execution": {
          "iopub.execute_input": "2020-09-04T08:35:22.105911Z",
          "iopub.status.busy": "2020-09-04T08:35:22.099026Z",
          "iopub.status.idle": "2020-09-04T08:35:22.110684Z",
          "shell.execute_reply": "2020-09-04T08:35:22.110076Z"
        },
        "papermill": {
          "duration": 0.023539,
          "end_time": "2020-09-04T08:35:22.110793",
          "exception": false,
          "start_time": "2020-09-04T08:35:22.087254",
          "status": "completed"
        },
        "tags": [],
        "colab": {
          "base_uri": "https://localhost:8080/",
          "height": 424
        },
        "id": "rsoIVyVSB7pL",
        "outputId": "06fad2d5-0697-4806-95b8-03047f244f0c"
      },
      "outputs": [
        {
          "output_type": "execute_result",
          "data": {
            "text/plain": [
              "                                     Questions  \\\n",
              "0                i'm fine. how about yourself?   \n",
              "1          i'm pretty good. thanks for asking.   \n",
              "2            no problem. so how have you been?   \n",
              "3             i've been great. what about you?   \n",
              "4     i've been good. i'm in school right now.   \n",
              "...                                        ...   \n",
              "3727                               how are you   \n",
              "3728                         how are you doing   \n",
              "3729                                     Hello   \n",
              "3730                               how are you   \n",
              "3731                               how are you   \n",
              "\n",
              "                                       Answers  \n",
              "0          i'm pretty good. thanks for asking.  \n",
              "1            no problem. so how have you been?  \n",
              "2             i've been great. what about you?  \n",
              "3     i've been good. i'm in school right now.  \n",
              "4                    what school do you go to?  \n",
              "...                                        ...  \n",
              "3727             i'm fine. how about yourself?  \n",
              "3728             i'm fine. how about yourself?  \n",
              "3729                                        hi  \n",
              "3730             i'm fine. how about yourself?  \n",
              "3731             i'm fine. how about yourself?  \n",
              "\n",
              "[3732 rows x 2 columns]"
            ],
            "text/html": [
              "\n",
              "  <div id=\"df-abafd857-9fa9-4ce5-a891-1313a7febfa0\">\n",
              "    <div class=\"colab-df-container\">\n",
              "      <div>\n",
              "<style scoped>\n",
              "    .dataframe tbody tr th:only-of-type {\n",
              "        vertical-align: middle;\n",
              "    }\n",
              "\n",
              "    .dataframe tbody tr th {\n",
              "        vertical-align: top;\n",
              "    }\n",
              "\n",
              "    .dataframe thead th {\n",
              "        text-align: right;\n",
              "    }\n",
              "</style>\n",
              "<table border=\"1\" class=\"dataframe\">\n",
              "  <thead>\n",
              "    <tr style=\"text-align: right;\">\n",
              "      <th></th>\n",
              "      <th>Questions</th>\n",
              "      <th>Answers</th>\n",
              "    </tr>\n",
              "  </thead>\n",
              "  <tbody>\n",
              "    <tr>\n",
              "      <th>0</th>\n",
              "      <td>i'm fine. how about yourself?</td>\n",
              "      <td>i'm pretty good. thanks for asking.</td>\n",
              "    </tr>\n",
              "    <tr>\n",
              "      <th>1</th>\n",
              "      <td>i'm pretty good. thanks for asking.</td>\n",
              "      <td>no problem. so how have you been?</td>\n",
              "    </tr>\n",
              "    <tr>\n",
              "      <th>2</th>\n",
              "      <td>no problem. so how have you been?</td>\n",
              "      <td>i've been great. what about you?</td>\n",
              "    </tr>\n",
              "    <tr>\n",
              "      <th>3</th>\n",
              "      <td>i've been great. what about you?</td>\n",
              "      <td>i've been good. i'm in school right now.</td>\n",
              "    </tr>\n",
              "    <tr>\n",
              "      <th>4</th>\n",
              "      <td>i've been good. i'm in school right now.</td>\n",
              "      <td>what school do you go to?</td>\n",
              "    </tr>\n",
              "    <tr>\n",
              "      <th>...</th>\n",
              "      <td>...</td>\n",
              "      <td>...</td>\n",
              "    </tr>\n",
              "    <tr>\n",
              "      <th>3727</th>\n",
              "      <td>how are you</td>\n",
              "      <td>i'm fine. how about yourself?</td>\n",
              "    </tr>\n",
              "    <tr>\n",
              "      <th>3728</th>\n",
              "      <td>how are you doing</td>\n",
              "      <td>i'm fine. how about yourself?</td>\n",
              "    </tr>\n",
              "    <tr>\n",
              "      <th>3729</th>\n",
              "      <td>Hello</td>\n",
              "      <td>hi</td>\n",
              "    </tr>\n",
              "    <tr>\n",
              "      <th>3730</th>\n",
              "      <td>how are you</td>\n",
              "      <td>i'm fine. how about yourself?</td>\n",
              "    </tr>\n",
              "    <tr>\n",
              "      <th>3731</th>\n",
              "      <td>how are you</td>\n",
              "      <td>i'm fine. how about yourself?</td>\n",
              "    </tr>\n",
              "  </tbody>\n",
              "</table>\n",
              "<p>3732 rows × 2 columns</p>\n",
              "</div>\n",
              "      <button class=\"colab-df-convert\" onclick=\"convertToInteractive('df-abafd857-9fa9-4ce5-a891-1313a7febfa0')\"\n",
              "              title=\"Convert this dataframe to an interactive table.\"\n",
              "              style=\"display:none;\">\n",
              "        \n",
              "  <svg xmlns=\"http://www.w3.org/2000/svg\" height=\"24px\"viewBox=\"0 0 24 24\"\n",
              "       width=\"24px\">\n",
              "    <path d=\"M0 0h24v24H0V0z\" fill=\"none\"/>\n",
              "    <path d=\"M18.56 5.44l.94 2.06.94-2.06 2.06-.94-2.06-.94-.94-2.06-.94 2.06-2.06.94zm-11 1L8.5 8.5l.94-2.06 2.06-.94-2.06-.94L8.5 2.5l-.94 2.06-2.06.94zm10 10l.94 2.06.94-2.06 2.06-.94-2.06-.94-.94-2.06-.94 2.06-2.06.94z\"/><path d=\"M17.41 7.96l-1.37-1.37c-.4-.4-.92-.59-1.43-.59-.52 0-1.04.2-1.43.59L10.3 9.45l-7.72 7.72c-.78.78-.78 2.05 0 2.83L4 21.41c.39.39.9.59 1.41.59.51 0 1.02-.2 1.41-.59l7.78-7.78 2.81-2.81c.8-.78.8-2.07 0-2.86zM5.41 20L4 18.59l7.72-7.72 1.47 1.35L5.41 20z\"/>\n",
              "  </svg>\n",
              "      </button>\n",
              "      \n",
              "  <style>\n",
              "    .colab-df-container {\n",
              "      display:flex;\n",
              "      flex-wrap:wrap;\n",
              "      gap: 12px;\n",
              "    }\n",
              "\n",
              "    .colab-df-convert {\n",
              "      background-color: #E8F0FE;\n",
              "      border: none;\n",
              "      border-radius: 50%;\n",
              "      cursor: pointer;\n",
              "      display: none;\n",
              "      fill: #1967D2;\n",
              "      height: 32px;\n",
              "      padding: 0 0 0 0;\n",
              "      width: 32px;\n",
              "    }\n",
              "\n",
              "    .colab-df-convert:hover {\n",
              "      background-color: #E2EBFA;\n",
              "      box-shadow: 0px 1px 2px rgba(60, 64, 67, 0.3), 0px 1px 3px 1px rgba(60, 64, 67, 0.15);\n",
              "      fill: #174EA6;\n",
              "    }\n",
              "\n",
              "    [theme=dark] .colab-df-convert {\n",
              "      background-color: #3B4455;\n",
              "      fill: #D2E3FC;\n",
              "    }\n",
              "\n",
              "    [theme=dark] .colab-df-convert:hover {\n",
              "      background-color: #434B5C;\n",
              "      box-shadow: 0px 1px 3px 1px rgba(0, 0, 0, 0.15);\n",
              "      filter: drop-shadow(0px 1px 2px rgba(0, 0, 0, 0.3));\n",
              "      fill: #FFFFFF;\n",
              "    }\n",
              "  </style>\n",
              "\n",
              "      <script>\n",
              "        const buttonEl =\n",
              "          document.querySelector('#df-abafd857-9fa9-4ce5-a891-1313a7febfa0 button.colab-df-convert');\n",
              "        buttonEl.style.display =\n",
              "          google.colab.kernel.accessAllowed ? 'block' : 'none';\n",
              "\n",
              "        async function convertToInteractive(key) {\n",
              "          const element = document.querySelector('#df-abafd857-9fa9-4ce5-a891-1313a7febfa0');\n",
              "          const dataTable =\n",
              "            await google.colab.kernel.invokeFunction('convertToInteractive',\n",
              "                                                     [key], {});\n",
              "          if (!dataTable) return;\n",
              "\n",
              "          const docLinkHtml = 'Like what you see? Visit the ' +\n",
              "            '<a target=\"_blank\" href=https://colab.research.google.com/notebooks/data_table.ipynb>data table notebook</a>'\n",
              "            + ' to learn more about interactive tables.';\n",
              "          element.innerHTML = '';\n",
              "          dataTable['output_type'] = 'display_data';\n",
              "          await google.colab.output.renderOutput(dataTable, element);\n",
              "          const docLink = document.createElement('div');\n",
              "          docLink.innerHTML = docLinkHtml;\n",
              "          element.appendChild(docLink);\n",
              "        }\n",
              "      </script>\n",
              "    </div>\n",
              "  </div>\n",
              "  "
            ]
          },
          "metadata": {},
          "execution_count": 64
        }
      ],
      "source": [
        "df"
      ]
    },
    {
      "cell_type": "code",
      "execution_count": 65,
      "metadata": {
        "execution": {
          "iopub.execute_input": "2020-09-04T08:35:22.131780Z",
          "iopub.status.busy": "2020-09-04T08:35:22.130914Z",
          "iopub.status.idle": "2020-09-04T08:35:22.133893Z",
          "shell.execute_reply": "2020-09-04T08:35:22.133359Z"
        },
        "papermill": {
          "duration": 0.015965,
          "end_time": "2020-09-04T08:35:22.134008",
          "exception": false,
          "start_time": "2020-09-04T08:35:22.118043",
          "status": "completed"
        },
        "tags": [],
        "id": "9kMfF57zB7pM"
      },
      "outputs": [],
      "source": [
        "def cleaner(x):\n",
        "    return [a for a in (''.join([a for a in x if a not in string.punctuation])).lower().split()]"
      ]
    },
    {
      "cell_type": "markdown",
      "source": [
        "# Decision tree"
      ],
      "metadata": {
        "id": "9WKQelCKJKN_"
      }
    },
    {
      "cell_type": "code",
      "execution_count": 66,
      "metadata": {
        "execution": {
          "iopub.execute_input": "2020-09-04T08:35:22.168519Z",
          "iopub.status.busy": "2020-09-04T08:35:22.167770Z",
          "iopub.status.idle": "2020-09-04T08:35:22.170714Z",
          "shell.execute_reply": "2020-09-04T08:35:22.170093Z"
        },
        "papermill": {
          "duration": 0.01547,
          "end_time": "2020-09-04T08:35:22.170831",
          "exception": false,
          "start_time": "2020-09-04T08:35:22.155361",
          "status": "completed"
        },
        "tags": [],
        "id": "-Oq-aYOLB7pN"
      },
      "outputs": [],
      "source": [
        "Pipe = Pipeline([\n",
        "    ('bow',CountVectorizer(analyzer=cleaner)),\n",
        "    ('tfidf',TfidfTransformer()),\n",
        "    ('classifier',DecisionTreeClassifier())\n",
        "])"
      ]
    },
    {
      "cell_type": "code",
      "execution_count": 67,
      "metadata": {
        "execution": {
          "iopub.execute_input": "2020-09-04T08:35:22.229980Z",
          "iopub.status.busy": "2020-09-04T08:35:22.199110Z",
          "iopub.status.idle": "2020-09-04T08:35:33.903102Z",
          "shell.execute_reply": "2020-09-04T08:35:33.902572Z"
        },
        "papermill": {
          "duration": 11.725116,
          "end_time": "2020-09-04T08:35:33.903225",
          "exception": false,
          "start_time": "2020-09-04T08:35:22.178109",
          "status": "completed"
        },
        "tags": [],
        "colab": {
          "base_uri": "https://localhost:8080/"
        },
        "id": "5IJBAa_lB7pP",
        "outputId": "d689424e-3ef3-4dc8-cc69-9ca960310486"
      },
      "outputs": [
        {
          "output_type": "execute_result",
          "data": {
            "text/plain": [
              "Pipeline(steps=[('bow',\n",
              "                 CountVectorizer(analyzer=<function cleaner at 0x7fa903415940>)),\n",
              "                ('tfidf', TfidfTransformer()),\n",
              "                ('classifier', DecisionTreeClassifier())])"
            ]
          },
          "metadata": {},
          "execution_count": 67
        }
      ],
      "source": [
        "Pipe.fit(df['Questions'],df['Answers'])"
      ]
    },
    {
      "cell_type": "markdown",
      "source": [
        "# ChatBot"
      ],
      "metadata": {
        "id": "x4Jd5WRSJNNK"
      }
    },
    {
      "cell_type": "code",
      "source": [
        "cond =True\n",
        "while cond:\n",
        "  inp = input()\n",
        "  if inp is not None:\n",
        "    print(Pipe.predict([inp])[0])\n",
        "  elif inp == 'exit':\n",
        "    cond = False\n",
        "  else:\n",
        "    pass"
      ],
      "metadata": {
        "colab": {
          "base_uri": "https://localhost:8080/"
        },
        "id": "xOTwy1oqk1pN",
        "outputId": "48ce772a-4bca-44bb-83d0-33ef3372ec9b"
      },
      "execution_count": null,
      "outputs": [
        {
          "output_type": "stream",
          "name": "stdout",
          "text": [
            "hii\n",
            "thank you.\n",
            "hello\n",
            "hi\n",
            "how are you\n",
            "i'm fine. how about yourself?\n",
            "I am great\n",
            "don't ever be in a hurry when you're driving.\n",
            "ok\n",
            "thank you.\n",
            "exit\n",
            "thank you.\n"
          ]
        }
      ]
    },
    {
      "cell_type": "code",
      "execution_count": 42,
      "metadata": {
        "execution": {
          "iopub.execute_input": "2020-09-04T08:35:33.940301Z",
          "iopub.status.busy": "2020-09-04T08:35:33.939443Z",
          "iopub.status.idle": "2020-09-04T08:35:33.943260Z",
          "shell.execute_reply": "2020-09-04T08:35:33.943672Z"
        },
        "papermill": {
          "duration": 0.018516,
          "end_time": "2020-09-04T08:35:33.943828",
          "exception": false,
          "start_time": "2020-09-04T08:35:33.925312",
          "status": "completed"
        },
        "tags": [],
        "id": "nrr8AE7mB7pR"
      },
      "outputs": [],
      "source": [
        "#'Pipe.predict(['whats your age'])[0]"
      ]
    },
    {
      "cell_type": "code",
      "execution_count": 43,
      "metadata": {
        "execution": {
          "iopub.execute_input": "2020-09-04T08:35:33.967059Z",
          "iopub.status.busy": "2020-09-04T08:35:33.966187Z",
          "iopub.status.idle": "2020-09-04T08:35:33.970696Z",
          "shell.execute_reply": "2020-09-04T08:35:33.970111Z"
        },
        "papermill": {
          "duration": 0.019149,
          "end_time": "2020-09-04T08:35:33.970848",
          "exception": false,
          "start_time": "2020-09-04T08:35:33.951699",
          "status": "completed"
        },
        "tags": [],
        "id": "TNT-sEgfB7pS"
      },
      "outputs": [],
      "source": [
        "#Pipe.predict(['what are you'])[0]"
      ]
    },
    {
      "cell_type": "code",
      "execution_count": 44,
      "metadata": {
        "execution": {
          "iopub.execute_input": "2020-09-04T08:35:33.993571Z",
          "iopub.status.busy": "2020-09-04T08:35:33.992794Z",
          "iopub.status.idle": "2020-09-04T08:35:33.997185Z",
          "shell.execute_reply": "2020-09-04T08:35:33.996524Z"
        },
        "papermill": {
          "duration": 0.018896,
          "end_time": "2020-09-04T08:35:33.997314",
          "exception": false,
          "start_time": "2020-09-04T08:35:33.978418",
          "status": "completed"
        },
        "tags": [],
        "id": "2YGvO8MVB7pT"
      },
      "outputs": [],
      "source": [
        "#Pipe.predict(['child'])[0]"
      ]
    },
    {
      "cell_type": "code",
      "execution_count": 45,
      "metadata": {
        "execution": {
          "iopub.execute_input": "2020-09-04T08:35:34.022306Z",
          "iopub.status.busy": "2020-09-04T08:35:34.021273Z",
          "iopub.status.idle": "2020-09-04T08:35:34.025411Z",
          "shell.execute_reply": "2020-09-04T08:35:34.024686Z"
        },
        "papermill": {
          "duration": 0.019754,
          "end_time": "2020-09-04T08:35:34.025531",
          "exception": false,
          "start_time": "2020-09-04T08:35:34.005777",
          "status": "completed"
        },
        "tags": [],
        "id": "89TDud2xB7pU"
      },
      "outputs": [],
      "source": [
        "#Pipe.predict(['hi'])[0]"
      ]
    },
    {
      "cell_type": "code",
      "source": [],
      "metadata": {
        "id": "FUdOPcq4mzO1"
      },
      "execution_count": null,
      "outputs": []
    }
  ],
  "metadata": {
    "kernelspec": {
      "display_name": "Python 3",
      "language": "python",
      "name": "python3"
    },
    "language_info": {
      "codemirror_mode": {
        "name": "ipython",
        "version": 3
      },
      "file_extension": ".py",
      "mimetype": "text/x-python",
      "name": "python",
      "nbconvert_exporter": "python",
      "pygments_lexer": "ipython3",
      "version": "3.7.6"
    },
    "papermill": {
      "duration": 18.829368,
      "end_time": "2020-09-04T08:35:34.156977",
      "environment_variables": {},
      "exception": null,
      "input_path": "__notebook__.ipynb",
      "output_path": "__notebook__.ipynb",
      "parameters": {},
      "start_time": "2020-09-04T08:35:15.327609",
      "version": "2.1.0"
    },
    "colab": {
      "provenance": []
    }
  },
  "nbformat": 4,
  "nbformat_minor": 0
}